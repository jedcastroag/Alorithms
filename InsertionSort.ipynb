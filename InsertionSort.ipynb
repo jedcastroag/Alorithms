{
 "cells": [
  {
   "cell_type": "markdown",
   "metadata": {},
   "source": [
    "Importamos itertools y lo renombramos como its para este proyecto"
   ]
  },
  {
   "cell_type": "code",
   "execution_count": 19,
   "metadata": {},
   "outputs": [],
   "source": [
    "import itertools as its\n",
    "import numpy as np"
   ]
  },
  {
   "cell_type": "markdown",
   "metadata": {},
   "source": [
    "generamos todas las permutaciones posibles desde 1 hasta N numeros"
   ]
  },
  {
   "cell_type": "code",
   "execution_count": 13,
   "metadata": {},
   "outputs": [
    {
     "data": {
      "text/plain": [
       "6"
      ]
     },
     "execution_count": 13,
     "metadata": {},
     "output_type": "execute_result"
    }
   ],
   "source": [
    "N = 3\n",
    "perm = list(its.permutations(range(1,N+1)))\n",
    "len(perm)"
   ]
  },
  {
   "cell_type": "markdown",
   "metadata": {},
   "source": [
    "Implementación de Instertion Sort:"
   ]
  },
  {
   "cell_type": "code",
   "execution_count": 4,
   "metadata": {},
   "outputs": [],
   "source": [
    "def insertion_sort_mine(arr):\n",
    "    for i in range(1,len(arr)):\n",
    "        k = i\n",
    "        for j in reversed(range(i)):\n",
    "            if arr[k] < arr[j]:\n",
    "                arr[k], arr[j] = arr[j], arr[k]\n",
    "                k = j\n",
    "    return arr"
   ]
  },
  {
   "cell_type": "code",
   "execution_count": 5,
   "metadata": {},
   "outputs": [],
   "source": [
    "def insertion_sort(A):\n",
    "    for i in range(1,len(A)):\n",
    "        x = A[i];\n",
    "        j = i-1\n",
    "        while j > -1 and x < A[j]:\n",
    "            A[j+1] = A[j]\n",
    "            j -= 1\n",
    "        A[j+1] = x\n",
    "    return A"
   ]
  },
  {
   "cell_type": "markdown",
   "metadata": {},
   "source": [
    "# Numero de Instrucciónes "
   ]
  },
  {
   "cell_type": "code",
   "execution_count": 10,
   "metadata": {},
   "outputs": [],
   "source": [
    "def insertion_sort_num_instr_mine(A):\n",
    "    counter = 0\n",
    "    for i in range(1,len(A)):        \n",
    "        k = i\n",
    "        for j in reversed(range(i)):\n",
    "            if A[k] < A[j]:\n",
    "                A[k], A[j] = A[j], A[k]\n",
    "                counter += 2        \n",
    "            k = j\n",
    "            counter += 2\n",
    "        counter += 2\n",
    "    return counter"
   ]
  },
  {
   "cell_type": "code",
   "execution_count": 17,
   "metadata": {},
   "outputs": [],
   "source": [
    "def insertion_sort_num_instr(A):\n",
    "    counter = 0\n",
    "    for i in range(1,len(A)):\n",
    "        x = A[i];\n",
    "        j = i-1\n",
    "        while j > -1 and x < A[j]:\n",
    "            A[j+1] = A[j]\n",
    "            j -= 1\n",
    "            counter += 3\n",
    "        if j==-1:\n",
    "            counter += 1\n",
    "        A[j+1] = x\n",
    "        counter += 4\n",
    "    counter += 1\n",
    "    return counter"
   ]
  },
  {
   "cell_type": "code",
   "execution_count": 18,
   "metadata": {},
   "outputs": [
    {
     "name": "stdout",
     "output_type": "stream",
     "text": [
      "[9, 12, 13, 16, 16, 20]\n"
     ]
    }
   ],
   "source": [
    "number_instructions_list_mine =[]\n",
    "for p in perm:\n",
    "    number_instructions_list_mine.append(insertion_sort_num_instr(list(p)))\n",
    "    \n",
    "print (number_instructions_list_mine)"
   ]
  },
  {
   "cell_type": "code",
   "execution_count": 20,
   "metadata": {},
   "outputs": [],
   "source": [
    "\n"
   ]
  },
  {
   "cell_type": "code",
   "execution_count": null,
   "metadata": {},
   "outputs": [],
   "source": []
  }
 ],
 "metadata": {
  "kernelspec": {
   "display_name": "Python 3",
   "language": "python",
   "name": "python3"
  },
  "language_info": {
   "codemirror_mode": {
    "name": "ipython",
    "version": 3
   },
   "file_extension": ".py",
   "mimetype": "text/x-python",
   "name": "python",
   "nbconvert_exporter": "python",
   "pygments_lexer": "ipython3",
   "version": "3.6.5"
  }
 },
 "nbformat": 4,
 "nbformat_minor": 2
}
