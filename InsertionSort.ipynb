{
 "cells": [
  {
   "cell_type": "markdown",
   "metadata": {},
   "source": [
    "Importamos itertools y lo renombramos como its para este proyecto"
   ]
  },
  {
   "cell_type": "code",
   "execution_count": 43,
   "metadata": {},
   "outputs": [],
   "source": [
    "import itertools as its\n",
    "import numpy as np\n",
    "import matplotlib.pyplot as pl"
   ]
  },
  {
   "cell_type": "markdown",
   "metadata": {},
   "source": [
    "generamos todas las permutaciones posibles desde 1 hasta N numeros"
   ]
  },
  {
   "cell_type": "code",
   "execution_count": 44,
   "metadata": {},
   "outputs": [
    {
     "data": {
      "text/plain": [
       "24"
      ]
     },
     "execution_count": 44,
     "metadata": {},
     "output_type": "execute_result"
    }
   ],
   "source": [
    "N = 4\n",
    "perm = list(its.permutations(range(1,N+1)))\n",
    "len(perm)"
   ]
  },
  {
   "cell_type": "markdown",
   "metadata": {},
   "source": [
    "Implementación de Instertion Sort:"
   ]
  },
  {
   "cell_type": "code",
   "execution_count": 45,
   "metadata": {},
   "outputs": [],
   "source": [
    "def insertion_sort_mine(arr):\n",
    "    for i in range(1,len(arr)):\n",
    "        k = i\n",
    "        for j in reversed(range(i)):\n",
    "            if arr[k] < arr[j]:\n",
    "                arr[k], arr[j] = arr[j], arr[k]\n",
    "                k = j\n",
    "    return arr"
   ]
  },
  {
   "cell_type": "code",
   "execution_count": 46,
   "metadata": {},
   "outputs": [],
   "source": [
    "def insertion_sort(A):\n",
    "    for i in range(1,len(A)):\n",
    "        x = A[i];\n",
    "        j = i-1\n",
    "        while j > -1 and x < A[j]:\n",
    "            A[j+1] = A[j]\n",
    "            j -= 1\n",
    "        A[j+1] = x\n",
    "    return A"
   ]
  },
  {
   "cell_type": "markdown",
   "metadata": {},
   "source": [
    "# Contadores Estadisticos"
   ]
  },
  {
   "cell_type": "markdown",
   "metadata": {},
   "source": []
  },
  {
   "cell_type": "code",
   "execution_count": 47,
   "metadata": {},
   "outputs": [],
   "source": [
    "def insertion_sort_counter_mine(A):\n",
    "    counter_inst = 0\n",
    "    counter_comp = 0\n",
    "    counter_swap = 0\n",
    "    for i in range(1,len(A)):        \n",
    "        k = i\n",
    "        for j in reversed(range(i)):\n",
    "            \n",
    "            if A[k] < A[j]:\n",
    "                A[k], A[j] = A[j], A[k]\n",
    "                \n",
    "                counter_swap += 1\n",
    "                counter_comp += 1 \n",
    "                \n",
    "                break\n",
    "                \n",
    "                counter_inst += 2  \n",
    "                \n",
    "            k = j\n",
    "            \n",
    "            counter_inst += 2\n",
    "            counter_comp += 1\n",
    "            \n",
    "        counter_inst += 2\n",
    "    return [counter_inst,counter_comp,counter_swap, counter_comp]"
   ]
  },
  {
   "cell_type": "code",
   "execution_count": 48,
   "metadata": {},
   "outputs": [],
   "source": [
    "def insertion_sort_counter(A):\n",
    "    counter_inst = 0\n",
    "    counter_comp = 0\n",
    "    counter_swap = 0\n",
    "    counter_while = 0\n",
    "    for i in range(1,len(A)):\n",
    "        x = A[i];\n",
    "        j = i-1\n",
    "        while j > -1 and x < A[j]:\n",
    "            A[j+1] = A[j]\n",
    "            j -= 1\n",
    "            \n",
    "            counter_swap += 1\n",
    "            counter_comp += 1\n",
    "            counter_inst += 3\n",
    "            counter_while += 1\n",
    "            \n",
    "        counter_while += 1\n",
    "            \n",
    "        if j==-1:\n",
    "            counter_comp += 1\n",
    "            counter_inst += 1        \n",
    "            \n",
    "        A[j+1] = x\n",
    "        \n",
    "        counter_inst += 4\n",
    "    counter_inst += 1\n",
    "    return [counter_inst,counter_comp,counter_swap, counter_while           ]"
   ]
  },
  {
   "cell_type": "code",
   "execution_count": 49,
   "metadata": {},
   "outputs": [
    {
     "name": "stdout",
     "output_type": "stream",
     "text": [
      "[[18, 6, 0, 6], [12, 4, 1, 4], [14, 5, 1, 5], [12, 4, 1, 4], [8, 3, 2, 3], [8, 3, 2, 3], [16, 6, 1, 6], [10, 4, 2, 4], [12, 5, 2, 5], [12, 4, 1, 4], [8, 3, 2, 3], [8, 3, 2, 3], [12, 5, 2, 5], [10, 4, 2, 4], [10, 5, 3, 5], [10, 4, 2, 4], [8, 3, 2, 3], [8, 3, 2, 3], [6, 3, 3, 3], [6, 3, 3, 3], [6, 3, 3, 3], [6, 3, 3, 3], [6, 3, 3, 3], [6, 3, 3, 3]]\n",
      "[[13, 0, 0, 3], [16, 1, 1, 4], [16, 1, 1, 4], [19, 2, 2, 5], [19, 2, 2, 5], [22, 3, 3, 6], [17, 2, 1, 4], [20, 3, 2, 5], [20, 3, 2, 5], [23, 4, 3, 6], [23, 4, 3, 6], [26, 5, 4, 7], [20, 3, 2, 5], [23, 4, 3, 6], [24, 5, 3, 6], [27, 6, 4, 7], [26, 5, 4, 7], [30, 7, 5, 8], [23, 4, 3, 6], [26, 5, 4, 7], [27, 6, 4, 7], [30, 7, 5, 8], [30, 7, 5, 8], [34, 9, 6, 9]]\n"
     ]
    }
   ],
   "source": [
    "counters_list_mine = []\n",
    "counters_list = []\n",
    "for p in perm:\n",
    "    counters_list_mine.append(insertion_sort_counter_mine(list(p)))\n",
    "    counters_list.append(insertion_sort_counter(list(p)))\n",
    "    \n",
    "print (counters_list_mine)\n",
    "print (counters_list)"
   ]
  },
  {
   "cell_type": "code",
   "execution_count": 50,
   "metadata": {},
   "outputs": [],
   "source": [
    "counters_list_dj_mine = []\n",
    "counters_list_dj = []"
   ]
  },
  {
   "cell_type": "code",
   "execution_count": 51,
   "metadata": {},
   "outputs": [],
   "source": [
    "def perm(v, i, n) :\n",
    "    \n",
    "    if i == n:    \n",
    "        counters_list_dj.append(insertion_sort_counter(v))\n",
    "        counters_list_dj_mine.append(insertion_sort_counter_mine(v))\n",
    "    else:\n",
    "        \n",
    "        for j in range(i,n):\n",
    "\n",
    "            #swap (v, i, j);\n",
    "            v[i] , v[j] = v[j] , v[i]                \n",
    "            perm (v, i+1, n)\n",
    "            #swap as it was\n",
    "            v[i] , v[j] = v[j] , v[i]  "
   ]
  },
  {
   "cell_type": "code",
   "execution_count": 52,
   "metadata": {},
   "outputs": [
    {
     "name": "stdout",
     "output_type": "stream",
     "text": [
      "[[13, 0, 0, 3], [16, 1, 1, 4], [19, 2, 2, 5], [16, 1, 1, 4], [16, 1, 1, 4], [16, 1, 1, 4], [23, 4, 3, 6], [16, 1, 1, 4], [19, 2, 2, 5], [16, 1, 1, 4], [16, 1, 1, 4], [16, 1, 1, 4], [26, 5, 4, 7], [16, 1, 1, 4], [19, 2, 2, 5], [16, 1, 1, 4], [16, 1, 1, 4], [16, 1, 1, 4], [20, 3, 2, 5], [16, 1, 1, 4], [19, 2, 2, 5], [16, 1, 1, 4], [16, 1, 1, 4], [16, 1, 1, 4]]\n",
      "[[18, 6, 0, 6], [18, 6, 0, 6], [18, 6, 0, 6], [18, 6, 0, 6], [18, 6, 0, 6], [18, 6, 0, 6], [18, 6, 0, 6], [18, 6, 0, 6], [18, 6, 0, 6], [18, 6, 0, 6], [18, 6, 0, 6], [18, 6, 0, 6], [18, 6, 0, 6], [18, 6, 0, 6], [18, 6, 0, 6], [18, 6, 0, 6], [18, 6, 0, 6], [18, 6, 0, 6], [18, 6, 0, 6], [18, 6, 0, 6], [18, 6, 0, 6], [18, 6, 0, 6], [18, 6, 0, 6], [18, 6, 0, 6]]\n"
     ]
    }
   ],
   "source": [
    "perm(list(range(1,N+1)),0,N)\n",
    "    \n",
    "print (counters_list_dj)\n",
    "print (counters_list_dj_mine)"
   ]
  },
  {
   "cell_type": "code",
   "execution_count": 54,
   "metadata": {},
   "outputs": [],
   "source": [
    "instr_count = []\n",
    "comp_count = []\n",
    "swap_count = []\n",
    "whiles_count = []\n",
    "\n",
    "for inst, comp, swap, whiles in counters_list:\n",
    "    instr_count.append(inst)\n",
    "    comp_count.append(comp)\n",
    "    swap_count.append(swap)\n",
    "    whiles_count.append(whiles)\n",
    "    \n"
   ]
  },
  {
   "cell_type": "code",
   "execution_count": null,
   "metadata": {},
   "outputs": [],
   "source": []
  }
 ],
 "metadata": {
  "kernelspec": {
   "display_name": "Python 3",
   "language": "python",
   "name": "python3"
  },
  "language_info": {
   "codemirror_mode": {
    "name": "ipython",
    "version": 3
   },
   "file_extension": ".py",
   "mimetype": "text/x-python",
   "name": "python",
   "nbconvert_exporter": "python",
   "pygments_lexer": "ipython3",
   "version": "3.6.5"
  }
 },
 "nbformat": 4,
 "nbformat_minor": 2
}
